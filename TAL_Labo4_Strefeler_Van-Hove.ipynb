{
 "cells": [
  {
   "cell_type": "markdown",
   "metadata": {},
   "source": [
    "<img src=\"https://heig-vd.ch/docs/default-source/doc-global-newsletter/2020-slim.svg\" alt=\"HEIG-VD Logo\" width=\"100\" align=\"right\" /> \n",
    "\n",
    "# Cours TAL - Laboratoire 4<br/>Reconnaissance des entités nommées\n",
    "\n",
    "**Objectif**\n",
    "\n",
    "L'objectif de ce travail est de comparer la reconnaissance des entités nommées (*named entity recognition*, NER) faite par quatre systèmes : NLTK, spaCy (deux modèles, 'en_core_web_sm' et 'en_core_web_lg'), et DistilBERT/NER.  Les données de test en anglais vous sont fournies sur Cyberlearn au format CoNLL.  Pour comparer les systèmes, on utilise la macro-moyenne des scores f1 pour chaque étiquette.  Vous pouvez concevoir l'ensemble du projet par vous-mêmes, ou suivre les indications suivantes."
   ]
  },
  {
   "cell_type": "markdown",
   "metadata": {},
   "source": [
    "## 1. NER avec spaCy et NLTK sur un texte court"
   ]
  },
  {
   "cell_type": "code",
   "execution_count": 1,
   "metadata": {},
   "outputs": [],
   "source": [
    "import spacy\n",
    "from spacy.tokens import Doc"
   ]
  },
  {
   "cell_type": "code",
   "execution_count": 2,
   "metadata": {},
   "outputs": [],
   "source": [
    "# !python -m spacy download en_core_web_sm \n",
    "# exécuter la ligne ci-dessus une fois, si nécessaire, idem pour en_core_web_lg"
   ]
  },
  {
   "cell_type": "code",
   "execution_count": 3,
   "metadata": {},
   "outputs": [],
   "source": [
    "nlp = spacy.load(\"en_core_web_sm\")"
   ]
  },
  {
   "cell_type": "code",
   "execution_count": 4,
   "metadata": {},
   "outputs": [],
   "source": [
    "raw_text = \"Reinhold Messner made a solo ascent of Mount Everest and was later a member of the European Parliament.\" "
   ]
  },
  {
   "cell_type": "markdown",
   "metadata": {},
   "source": [
    "**1a.** Veuillez traiter ce texte avec la pipeline 'nlp', et pour chaque entité nommée trouvée veuillez afficher les mots qui la composent et son type."
   ]
  },
  {
   "cell_type": "code",
   "execution_count": 5,
   "metadata": {},
   "outputs": [
    {
     "name": "stdout",
     "output_type": "stream",
     "text": [
      "Reinhold Messner [ORG] Mount Everest [LOC] the European Parliament [ORG]\n"
     ]
    }
   ],
   "source": [
    "doc = nlp(raw_text)\n",
    "formatted_tokens = \" \".join([f\"{token.text} [{token.label_}]\" for token in doc.ents])\n",
    "print(formatted_tokens)"
   ]
  },
  {
   "cell_type": "markdown",
   "metadata": {},
   "source": [
    "**1b.** Veuillez effectuer avec NLTK la tokenization, le POS tagging et le *NE chunking* de `raw_text` (voir la [documentation NLTK](https://www.nltk.org/api/nltk.chunk.ne_chunk.html#nltk.chunk.ne_chunk)).  Veuillez afficher le résultat et indiquer son type."
   ]
  },
  {
   "cell_type": "code",
   "execution_count": 6,
   "metadata": {},
   "outputs": [
    {
     "name": "stdout",
     "output_type": "stream",
     "text": [
      "Résultat du NE chunking :\n",
      "(S\n",
      "  (PERSON Reinhold/NNP)\n",
      "  (PERSON Messner/NNP)\n",
      "  made/VBD\n",
      "  a/DT\n",
      "  solo/JJ\n",
      "  ascent/NN\n",
      "  of/IN\n",
      "  (PERSON Mount/NNP Everest/NNP)\n",
      "  and/CC\n",
      "  was/VBD\n",
      "  later/RB\n",
      "  a/DT\n",
      "  member/NN\n",
      "  of/IN\n",
      "  the/DT\n",
      "  (ORGANIZATION European/NNP Parliament/NNP)\n",
      "  ./.)\n",
      "\n",
      "Type du résultat : <class 'nltk.tree.tree.Tree'>\n"
     ]
    }
   ],
   "source": [
    "import nltk\n",
    "#nltk.download('punkt_tab')\n",
    "#nltk.download('maxent_ne_chunker_tab') \n",
    "#nltk.download('words') \n",
    "#nltk.download('punkt')\n",
    "#nltk.download('averaged_perceptron_tagger_eng')\n",
    "\n",
    "tokens = nltk.word_tokenize(raw_text)\n",
    "tagged = nltk.pos_tag(tokens)\n",
    "ne_chunked = nltk.ne_chunk(tagged)\n",
    "\n",
    "print(\"Résultat du NE chunking :\")\n",
    "print(ne_chunked)\n",
    "print(\"\\nType du résultat :\", type(ne_chunked))"
   ]
  },
  {
   "cell_type": "markdown",
   "metadata": {},
   "source": [
    "**1c.** Veuillez afficher, pour chaque entité nommée, les mots qui la composent et son type.  Vous pouvez parcourir le résultat précédent avec une boucle `for`, et déterminer si un noeud possède une étiquette avec la fonction `hasattr(noeud, 'label')`."
   ]
  },
  {
   "cell_type": "code",
   "execution_count": 7,
   "metadata": {},
   "outputs": [
    {
     "name": "stdout",
     "output_type": "stream",
     "text": [
      "(PERSON Reinhold/NNP)\n",
      "(PERSON Messner/NNP)\n",
      "(PERSON Mount/NNP Everest/NNP)\n",
      "(ORGANIZATION European/NNP Parliament/NNP)\n"
     ]
    }
   ],
   "source": [
    "for ne in ne_chunked:\n",
    "    if hasattr(ne, 'label'):\n",
    "        print(ne)"
   ]
  },
  {
   "cell_type": "markdown",
   "metadata": {},
   "source": [
    "**1d.** À ce stade, que pensez-vous de la qualité des résultats de chaque système ?"
   ]
  },
  {
   "cell_type": "markdown",
   "metadata": {},
   "source": [
    "C'est pas terrible car il lablise \"Mount Everest\" comme étant une EN de type \"PERSON\", de plus il distingue \"Reinhold\" et \"Messner\" comme étant 2 entités séparées."
   ]
  },
  {
   "cell_type": "markdown",
   "metadata": {},
   "source": [
    "## 2. Prise en main des données de test\n",
    "\n",
    "**2a.** Quel est le format du fichier `eng.test.a.conll` ?  Quelle information contient chaque colonne ?  Quel est le format des tags NE ?\n",
    "\n",
    "Note : ce fichier fait partie des données de test pour la NER sur l'anglais de la conférence [CoNLL](https://www.clips.uantwerpen.be/pages/past-workshops) 2003. On peut lire [ici](https://www.clips.uantwerpen.be/conll2003/ner/) la description de la tâche et les scores obtenus.  On peut trouver une copie des données [ici](https://sourceforge.net/p/text-analysis/svn/1243/tree/text-analysis/trunk/Corpora/CoNLL/2003/) ou [ici](https://github.com/synalp/NER/tree/master/corpus/CoNLL-2003).  Les textes proviennent du [corpus Reuters](http://trec.nist.gov/data/reuters/reuters.html)."
   ]
  },
  {
   "cell_type": "markdown",
   "metadata": {},
   "source": [
    "Chaque ligne représente un mot du texte, avec des colonnes séparées par un espace. Les phrases sont séparées par une ligne vide. Les documents peuvent commencer par une ligne spéciale : -DOCSTART- -X- O O qui marque le début d'un document.\n",
    "\n",
    "Les colonnes sont:\n",
    "1. Mot/token du texte\n",
    "2. POS tag (catégorie grammaticale) selon Penn Treebank\n",
    "3. Tag de chunking syntaxique (groupe de mots)\n",
    "4. Tag d'entité nommée (NER)\n",
    "\n",
    "Les tags NE suivent le schéma BIO :\n",
    "* B-TYPE = début d’une entité nommée de type TYPE\n",
    "* I-TYPE = à l’intérieur d’une entité nommée de type TYPE\n",
    "* O = pas une entité nommée"
   ]
  },
  {
   "cell_type": "markdown",
   "metadata": {},
   "source": [
    "**2b.** Veuillez charger les données de `eng.test.a.conll` grâce à la classe `ConllCorpusReader` de NLTK vue dans les labos précédents (voir [documentation](https://www.nltk.org/api/nltk.corpus.reader.conll.html#nltk.corpus.reader.conll.ConllCorpusReader)). Veuillez lire les colonnes qui contiennent les tokens ('words'), les POS tags ('pos') et les informations sur les entités nommées ('chunk') et afficher les quatre premières phrases, accessibles via la méthode `.iob_sents()`."
   ]
  },
  {
   "cell_type": "code",
   "execution_count": 8,
   "metadata": {},
   "outputs": [],
   "source": [
    "from nltk.corpus.reader.conll import ConllCorpusReader"
   ]
  },
  {
   "cell_type": "code",
   "execution_count": 9,
   "metadata": {},
   "outputs": [
    {
     "name": "stdout",
     "output_type": "stream",
     "text": [
      "[('CRICKET', 'NNP', 'O'), ('-', ':', 'O'), ('LEICESTERSHIRE', 'NNP', 'I-ORG'), ('TAKE', 'NNP', 'O'), ('OVER', 'IN', 'O'), ('AT', 'NNP', 'O'), ('TOP', 'NNP', 'O'), ('AFTER', 'NNP', 'O'), ('INNINGS', 'NNP', 'O'), ('VICTORY', 'NN', 'O'), ('.', '.', 'O')]\n",
      "[('LONDON', 'NNP', 'I-LOC'), ('1996-08-30', 'CD', 'O')]\n",
      "[('West', 'NNP', 'I-MISC'), ('Indian', 'NNP', 'I-MISC'), ('all-rounder', 'NN', 'O'), ('Phil', 'NNP', 'I-PER'), ('Simmons', 'NNP', 'I-PER'), ('took', 'VBD', 'O'), ('four', 'CD', 'O'), ('for', 'IN', 'O'), ('38', 'CD', 'O'), ('on', 'IN', 'O'), ('Friday', 'NNP', 'O'), ('as', 'IN', 'O'), ('Leicestershire', 'NNP', 'I-ORG'), ('beat', 'VBD', 'O'), ('Somerset', 'NNP', 'I-ORG'), ('by', 'IN', 'O'), ('an', 'DT', 'O'), ('innings', 'NN', 'O'), ('and', 'CC', 'O'), ('39', 'CD', 'O'), ('runs', 'NNS', 'O'), ('in', 'IN', 'O'), ('two', 'CD', 'O'), ('days', 'NNS', 'O'), ('to', 'TO', 'O'), ('take', 'VB', 'O'), ('over', 'IN', 'O'), ('at', 'IN', 'O'), ('the', 'DT', 'O'), ('head', 'NN', 'O'), ('of', 'IN', 'O'), ('the', 'DT', 'O'), ('county', 'NN', 'O'), ('championship', 'NN', 'O'), ('.', '.', 'O')]\n",
      "[('Their', 'PRP$', 'O'), ('stay', 'NN', 'O'), ('on', 'IN', 'O'), ('top', 'NN', 'O'), (',', ',', 'O'), ('though', 'RB', 'O'), (',', ',', 'O'), ('may', 'MD', 'O'), ('be', 'VB', 'O'), ('short-lived', 'JJ', 'O'), ('as', 'IN', 'O'), ('title', 'NN', 'O'), ('rivals', 'NNS', 'O'), ('Essex', 'NNP', 'I-ORG'), (',', ',', 'O'), ('Derbyshire', 'NNP', 'I-ORG'), ('and', 'CC', 'O'), ('Surrey', 'NNP', 'I-ORG'), ('all', 'DT', 'O'), ('closed', 'VBD', 'O'), ('in', 'RP', 'O'), ('on', 'IN', 'O'), ('victory', 'NN', 'O'), ('while', 'IN', 'O'), ('Kent', 'NNP', 'I-ORG'), ('made', 'VBD', 'O'), ('up', 'RP', 'O'), ('for', 'IN', 'O'), ('lost', 'VBN', 'O'), ('time', 'NN', 'O'), ('in', 'IN', 'O'), ('their', 'PRP$', 'O'), ('rain-affected', 'JJ', 'O'), ('match', 'NN', 'O'), ('against', 'IN', 'O'), ('Nottinghamshire', 'NNP', 'I-ORG'), ('.', '.', 'O')]\n"
     ]
    }
   ],
   "source": [
    "reader = ConllCorpusReader(\"\", \"eng.test.a.conll\", ['words', 'pos', 'ignore','chunk'])\n",
    "for i in range(1,5) :\n",
    "    print(reader.iob_sents()[i])"
   ]
  },
  {
   "cell_type": "markdown",
   "metadata": {},
   "source": [
    "**2c.** Veuillez préparer les données pour le test, en ne gardant que les phrases ayant au moins trois (3) tokens (pas 0, 1, 2) :\n",
    "\n",
    "* une variable `test_tokens` contiendra les tokens groupés par phrase (liste de listes de strings)\n",
    "* une variable `test_tags` contiendra tous les tags NE en une seule liste (en vue de l'évaluation)"
   ]
  },
  {
   "cell_type": "code",
   "execution_count": 10,
   "metadata": {},
   "outputs": [
    {
     "name": "stdout",
     "output_type": "stream",
     "text": [
      "Exemple test_tokens[0] : ['CRICKET', '-', 'LEICESTERSHIRE', 'TAKE', 'OVER', 'AT', 'TOP', 'AFTER', 'INNINGS', 'VICTORY', '.']\n",
      "Exemple test_tags[:10] : ['O', 'O', 'I-ORG', 'O', 'O', 'O', 'O', 'O', 'O', 'O']\n"
     ]
    }
   ],
   "source": [
    "sentences = reader.iob_sents()\n",
    "test_tokens = []\n",
    "test_tags = []\n",
    "\n",
    "for sent in sentences:\n",
    "    if len(sent) >= 3:\n",
    "        tokens = [word for word, pos, ne in sent]\n",
    "        tags = [ne for word, pos, ne in sent]\n",
    "        \n",
    "        test_tokens.append(tokens)\n",
    "        test_tags.extend(tags)\n",
    "        \n",
    "print(\"Exemple test_tokens[0] :\", test_tokens[0])\n",
    "print(\"Exemple test_tags[:10] :\", test_tags[:10])"
   ]
  },
  {
   "cell_type": "markdown",
   "metadata": {},
   "source": [
    "**2d.** Combien d'occurrences de tags contient `test_tags`?  Combien de tags différents y a-t-il, et lesquels sont-ils ?  Combien il y a d'occurrences de tags de chaque type ?  Combien de phrases y a-t-il dans `test_tokens` ?"
   ]
  },
  {
   "cell_type": "code",
   "execution_count": 11,
   "metadata": {},
   "outputs": [
    {
     "name": "stdout",
     "output_type": "stream",
     "text": [
      "test_tags:  50817  tags\n",
      "Occurences de chaque type de tags: Counter({'O': 42474, 'I-PER': 3097, 'I-ORG': 2080, 'I-LOC': 1938, 'I-MISC': 1228})\n",
      "test_tokens:  2970  phrases\n"
     ]
    }
   ],
   "source": [
    "print(\"test_tags: \", len(test_tags), \" tags\")\n",
    " \n",
    "from collections import Counter\n",
    "print(f\"Occurences de chaque type de tags: {Counter(test_tags)}\")\n",
    " \n",
    "print(\"test_tokens: \", len(test_tokens), \" phrases\")"
   ]
  },
  {
   "cell_type": "markdown",
   "metadata": {},
   "source": [
    "## 3. Performances de NLTK pour la NER\n",
    "\n",
    "**3a.** Le NER de NLTK a un jeu de tags différents de celui des données de test.  Veuillez chercher les informations pour compléter la fonction suivante qui convertit chaque tag du NER de NLTK vers le tag correspondant pour les données de test. "
   ]
  },
  {
   "cell_type": "code",
   "execution_count": 12,
   "metadata": {},
   "outputs": [],
   "source": [
    "def convert_nltk_conll(nltk_tag):\n",
    "    corresp = {\n",
    "        'O': 'O',\n",
    "        'ORGANIZATION': 'I-ORG',\n",
    "        'PERSON': 'I-PER',\n",
    "        'LOCATION': 'I-LOC',\n",
    "        'GPE': 'I-LOC',\n",
    "        'GSP': 'I-MISC',\n",
    "        'FACILITY': 'I-LOC',\n",
    "        'MISC': 'I-MISC',\n",
    "    }\n",
    "    if nltk_tag in corresp:\n",
    "        return corresp[nltk_tag]\n",
    "    else:\n",
    "        print(f\"Tag inconnu: {nltk_tag}\")\n",
    "    return 'I-MISC'"
   ]
  },
  {
   "cell_type": "markdown",
   "metadata": {},
   "source": [
    "**3b.** Veuillez exécuter la NER de NLTK sur chacune des phrases de `test_tokens`, ce qui assure que NLTK aura la même tokenisation que les données de référence.  Veuillez stocker les tags dans une liste unique appelée `nltk_tags`."
   ]
  },
  {
   "cell_type": "code",
   "execution_count": 13,
   "metadata": {},
   "outputs": [],
   "source": [
    "from nltk import pos_tag, ne_chunk_sents\n",
    "\n",
    "# POS-taguer toutes les phrases d'un coup\n",
    "pos_tagged_sents = [pos_tag(sent) for sent in test_tokens]\n",
    "\n",
    "# NER chunking de toutes les phrases\n",
    "chunked_sents = ne_chunk_sents(pos_tagged_sents)\n",
    "\n",
    "# Extraction des tags dans nltk_tags\n",
    "nltk_tags = []\n",
    "\n",
    "for tree in chunked_sents:\n",
    "    for subtree in tree:\n",
    "        if hasattr(subtree, 'label'):\n",
    "            for _ in subtree:\n",
    "                nltk_tags.append(subtree.label())\n",
    "        else:\n",
    "            nltk_tags.append('O')"
   ]
  },
  {
   "cell_type": "markdown",
   "metadata": {},
   "source": [
    "**3c.** Veuillez convertir les tags de `nltk_tags` grâce à la fonction précédente, dans une liste appelée `nltk_tags_conv`.  Veuillez afficher le nombre total de tags et les dix premiers.  Vous pouvez plusieurs essais en changeant la fonction, pour aboutir à la conversion qui maximise le score."
   ]
  },
  {
   "cell_type": "code",
   "execution_count": 14,
   "metadata": {},
   "outputs": [
    {
     "name": "stdout",
     "output_type": "stream",
     "text": [
      "Nombre total de tags : 50817\n",
      "Les 10 premiers tags convertis : ['I-LOC', 'O', 'I-ORG', 'O', 'O', 'O', 'I-ORG', 'O', 'I-ORG', 'O']\n"
     ]
    }
   ],
   "source": [
    "nltk_tags_conv = [convert_nltk_conll(tag) for tag in nltk_tags]\n",
    "\n",
    "print(\"Nombre total de tags :\", len(nltk_tags_conv))\n",
    "print(\"Les 10 premiers tags convertis :\", nltk_tags_conv[:10])"
   ]
  },
  {
   "cell_type": "markdown",
   "metadata": {},
   "source": [
    "**3d.** Veuillez afficher le rapport d'évaluation de classification obtenu de Scikit-learn et la matrice de confusion pour tous les types de tags apparaissant dans les données de test."
   ]
  },
  {
   "cell_type": "code",
   "execution_count": 15,
   "metadata": {},
   "outputs": [
    {
     "name": "stdout",
     "output_type": "stream",
     "text": [
      "Rapport de classification NER (format CoNLL, avec conversion):\n",
      "              precision    recall  f1-score   support\n",
      "\n",
      "       I-LOC       0.55      0.72      0.62      1938\n",
      "      I-MISC       0.16      0.01      0.01      1228\n",
      "       I-ORG       0.51      0.35      0.41      2080\n",
      "       I-PER       0.77      0.74      0.76      3097\n",
      "           O       0.96      0.99      0.97     42474\n",
      "\n",
      "    accuracy                           0.91     50817\n",
      "   macro avg       0.59      0.56      0.56     50817\n",
      "weighted avg       0.89      0.91      0.90     50817\n",
      "\n"
     ]
    },
    {
     "data": {
      "image/png": "[encoded data removed]",
      "text/plain": [
       "<Figure size 800x600 with 2 Axes>"
      ]
     },
     "metadata": {},
     "output_type": "display_data"
    }
   ],
   "source": [
    "from sklearn.metrics import classification_report, confusion_matrix\n",
    "import matplotlib.pyplot as plt\n",
    "import seaborn as sns\n",
    "\n",
    "# Vérification des longueurs\n",
    "assert len(test_tags) == len(nltk_tags_conv), \"Longueurs différentes entre les tags réels et prédits.\"\n",
    "\n",
    "# Rapport de classification\n",
    "print(\"Rapport de classification NER (format CoNLL, avec conversion):\")\n",
    "print(classification_report(test_tags, nltk_tags_conv))\n",
    "\n",
    "# Matrice de confusion\n",
    "labels = sorted(set(test_tags) - {'O'})\n",
    "conf_mat = confusion_matrix(test_tags, nltk_tags_conv, labels=labels)\n",
    "\n",
    "# Affichage de la matrice de confusion\n",
    "plt.figure(figsize=(8,6))\n",
    "sns.heatmap(conf_mat, annot=True, fmt='d', xticklabels=labels, yticklabels=labels, cmap=\"Blues\")\n",
    "plt.xlabel(\"Prédit\")\n",
    "plt.ylabel(\"Vrai\")\n",
    "plt.title(\"Matrice de confusion NER (hors 'O')\")\n",
    "plt.tight_layout()\n",
    "plt.show()"
   ]
  },
  {
   "cell_type": "markdown",
   "metadata": {},
   "source": [
    "## 4. Performances de spaCy pour la NER\n",
    "\n",
    "**4a.** Le NER de spaCy a aussi un jeu de tags différents de celui des données de test.  Veuillez chercher les informations pour compléter la fonction suivante qui convertir chaque tag du NER de spaCy dans le tag correspondant pour les données de test.  Attention à la logique des conversions. "
   ]
  },
  {
   "cell_type": "code",
   "execution_count": 16,
   "metadata": {},
   "outputs": [],
   "source": [
    "def convert_spacy_conll(spacy_tag):\n",
    "    corresp = {\n",
    "        'O': 'O',\n",
    "        'PERSON': 'I-PER',\n",
    "        'ORG': 'I-ORG',\n",
    "        'GPE': 'I-LOC',\n",
    "        'LOC': 'I-LOC',\n",
    "        'FAC': 'I-LOC',\n",
    "        'NORP': 'I-MISC',\n",
    "        'PRODUCT': 'I-MISC',\n",
    "        'EVENT': 'I-MISC',\n",
    "        'WORK_OF_ART': 'I-MISC',\n",
    "        'LAW': 'I-MISC',\n",
    "        'LANGUAGE': 'O',\n",
    "        'DATE': 'O',\n",
    "        'TIME': 'O',\n",
    "        'PERCENT': 'O',\n",
    "        'MONEY': 'O',\n",
    "        'QUANTITY': 'O',\n",
    "        'ORDINAL': 'O',\n",
    "        'CARDINAL': 'O'\n",
    "    }\n",
    "    if spacy_tag in corresp:\n",
    "        return corresp[spacy_tag]\n",
    "    else:\n",
    "        print(f\"Tag inconnu: {spacy_tag}\")\n",
    "    return 'I-MISC'"
   ]
  },
  {
   "cell_type": "markdown",
   "metadata": {},
   "source": [
    "**4b.** Veuillez exécuter la NER de spaCy sur chacune des phrases de `test_tokens`, ce qui assure que spaCy aura la même tokenisation que les données de référence.  Veuillez stocker les tags dans une liste unique appelée `spacy_tags`."
   ]
  },
  {
   "cell_type": "code",
   "execution_count": 17,
   "metadata": {},
   "outputs": [],
   "source": [
    "spacy_tags = []\n",
    "\n",
    "for sentence in test_tokens:\n",
    "    # Création manuelle d'un Doc avec les tokens déjà définis\n",
    "    doc = Doc(nlp.vocab, words=sentence)\n",
    "    # Appliquer le pipeline NER sur le Doc\n",
    "    doc = nlp(doc)\n",
    "    \n",
    "    # Associer chaque token à son entité, ou 'O' s'il n'en a pas\n",
    "    for token in doc:\n",
    "        if token.ent_type_:\n",
    "            spacy_tags.append(token.ent_type_)\n",
    "        else:\n",
    "            spacy_tags.append('O')"
   ]
  },
  {
   "cell_type": "markdown",
   "metadata": {},
   "source": [
    "**4c.** Veuillez convertir les tags de `spacy_tags` grâce à la fonction précédente, dans une liste appelée `spacy_tags_conv`.  Veuillez afficher le nombre total de tags et les dix premiers.  Vous pouvez plusieurs essais en changeant la fonction, pour aboutir à la conversion qui maximise le score."
   ]
  },
  {
   "cell_type": "code",
   "execution_count": 18,
   "metadata": {},
   "outputs": [
    {
     "name": "stdout",
     "output_type": "stream",
     "text": [
      "Nombre total de tags : 50817\n",
      "Les 10 premiers tags convertis : ['O', 'O', 'O', 'O', 'O', 'O', 'O', 'O', 'O', 'O']\n"
     ]
    }
   ],
   "source": [
    "spacy_tags_conv = [convert_spacy_conll(tag) for tag in spacy_tags]\n",
    "\n",
    "print(\"Nombre total de tags :\", len(spacy_tags_conv))\n",
    "print(\"Les 10 premiers tags convertis :\", spacy_tags_conv[:10])"
   ]
  },
  {
   "cell_type": "markdown",
   "metadata": {},
   "source": [
    "**4d.** Veuillez afficher le rapport d'évaluation de classification obtenu de Scikit-learn et la matrice de confusion pour tous les types de tags apparaissant dans les données de test."
   ]
  },
  {
   "cell_type": "code",
   "execution_count": 19,
   "metadata": {},
   "outputs": [
    {
     "name": "stdout",
     "output_type": "stream",
     "text": [
      "              precision    recall  f1-score   support\n",
      "\n",
      "       I-LOC       0.79      0.80      0.80      1938\n",
      "      I-MISC       0.70      0.61      0.65      1228\n",
      "       I-ORG       0.52      0.52      0.52      2080\n",
      "       I-PER       0.83      0.71      0.77      3097\n",
      "           O       0.97      0.98      0.97     42474\n",
      "\n",
      "    accuracy                           0.93     50817\n",
      "   macro avg       0.76      0.73      0.74     50817\n",
      "weighted avg       0.93      0.93      0.93     50817\n",
      "\n"
     ]
    },
    {
     "data": {
      "image/png": "[encoded data removed]",
      "text/plain": [
       "<Figure size 800x600 with 2 Axes>"
      ]
     },
     "metadata": {},
     "output_type": "display_data"
    }
   ],
   "source": [
    "from sklearn.metrics import classification_report, confusion_matrix\n",
    "import seaborn as sns\n",
    "import matplotlib.pyplot as plt\n",
    "\n",
    "# Rapport\n",
    "print(classification_report(test_tags, spacy_tags_conv))\n",
    "\n",
    "# Matrice de confusion (sans 'O')\n",
    "labels = sorted(set(test_tags) - {'O'})\n",
    "cm = confusion_matrix(test_tags, spacy_tags_conv, labels=labels)\n",
    "\n",
    "plt.figure(figsize=(8,6))\n",
    "sns.heatmap(cm, annot=True, fmt='d', xticklabels=labels, yticklabels=labels, cmap='Blues')\n",
    "plt.xlabel(\"Prédit\")\n",
    "plt.ylabel(\"Tag réel\")\n",
    "plt.title(\"Matrice de confusion NER (spaCy)\")\n",
    "plt.tight_layout()\n",
    "plt.show()"
   ]
  },
  {
   "cell_type": "markdown",
   "metadata": {},
   "source": [
    "**4e.** Veuillez exécuter également le modèle 'en_core_web_lg' de spacy et afficher le rapport d'évaluation (il n'est pas demander d'afficher la matrice de confusion).  Vous pouvez recopier ici le minimum de code nécessaire à l'obtention des résultats, avec une nouvelle pipeline spaCy appelée 'nlp2'."
   ]
  },
  {
   "cell_type": "code",
   "execution_count": 20,
   "metadata": {},
   "outputs": [
    {
     "name": "stdout",
     "output_type": "stream",
     "text": [
      "              precision    recall  f1-score   support\n",
      "\n",
      "       I-LOC       0.75      0.87      0.81      1938\n",
      "      I-MISC       0.84      0.66      0.74      1228\n",
      "       I-ORG       0.55      0.60      0.58      2080\n",
      "       I-PER       0.91      0.82      0.86      3097\n",
      "           O       0.98      0.98      0.98     42474\n",
      "\n",
      "    accuracy                           0.94     50817\n",
      "   macro avg       0.81      0.79      0.79     50817\n",
      "weighted avg       0.94      0.94      0.94     50817\n",
      "\n"
     ]
    }
   ],
   "source": [
    "# !python -m spacy download en_core_web_lg\n",
    "\n",
    "# Charger le modèle large\n",
    "nlp2 = spacy.load(\"en_core_web_lg\")\n",
    "\n",
    "spacy_tags_lg = []\n",
    "\n",
    "for sentence in test_tokens:\n",
    "    doc = Doc(nlp2.vocab, words=sentence)\n",
    "    doc = nlp2(doc)\n",
    "    \n",
    "    for token in doc:\n",
    "        spacy_tags_lg.append(token.ent_type_ if token.ent_type_ else 'O')\n",
    "\n",
    "# Conversion\n",
    "spacy_tags_conv_lg = [convert_spacy_conll(tag) for tag in spacy_tags_lg]\n",
    "\n",
    "# Évaluation\n",
    "print(classification_report(test_tags, spacy_tags_conv_lg))"
   ]
  },
  {
   "cell_type": "markdown",
   "metadata": {},
   "source": [
    "## 5. Utilisation d'embeddings contextualisés fournis par BERT\n",
    "\n",
    "Dans cette section, vous allez évaluer un modèle basé sur le Transformer, qui fournit des embeddings contextualisés pour chaque token.  Ces embeddings sont ensuite utilisés par une couche finale (appelée _NER head_) pour assigner à chaque token une étiquette indiquant les entités nommées.  Le modèle et les instructions pour l'utiliser sont disponibles ici : https://huggingface.co/dslim/distilbert-NER (il s'agit d'une version de BERT \"distillée\" dans un modèle plus léger, suivi du _NER head_).\n",
    "\n",
    "**5a.** Prise en main du modèle : à l'aide des exemples fournis sur Hugging Face, veuillez appliquer DistilBERT_NER sur les 3 premières phrases des données contenues dans `test_tokens` (voir le point 2c) et afficher les résultats obtenus.  Quelles sont les différences avec les résultats de NLTK et de spaCy ?"
   ]
  },
  {
   "cell_type": "code",
   "execution_count": 21,
   "metadata": {},
   "outputs": [],
   "source": [
    "from transformers import AutoTokenizer, AutoModelForTokenClassification, pipeline\n",
    "\n",
    "# Charger le modèle distilbert-NER\n",
    "tokenizer = AutoTokenizer.from_pretrained(\"dslim/distilbert-NER\")\n",
    "model = AutoModelForTokenClassification.from_pretrained(\"dslim/distilbert-NER\")"
   ]
  },
  {
   "cell_type": "code",
   "execution_count": 22,
   "metadata": {},
   "outputs": [
    {
     "name": "stderr",
     "output_type": "stream",
     "text": [
      "Device set to use cuda:0\n"
     ]
    },
    {
     "name": "stdout",
     "output_type": "stream",
     "text": [
      "\n",
      "Résultats pour la phrase 1:\n",
      "{'entity': 'B-PER', 'score': np.float32(0.707792), 'index': 6, 'word': 'L', 'start': 10, 'end': 11}\n",
      "{'entity': 'B-PER', 'score': np.float32(0.66007084), 'index': 7, 'word': '##EI', 'start': 11, 'end': 13}\n",
      "{'entity': 'B-PER', 'score': np.float32(0.63090503), 'index': 8, 'word': '##CE', 'start': 13, 'end': 15}\n",
      "{'entity': 'B-PER', 'score': np.float32(0.7143566), 'index': 9, 'word': '##ST', 'start': 15, 'end': 17}\n",
      "{'entity': 'B-PER', 'score': np.float32(0.7178327), 'index': 10, 'word': '##ER', 'start': 17, 'end': 19}\n",
      "{'entity': 'B-PER', 'score': np.float32(0.8095987), 'index': 11, 'word': '##S', 'start': 19, 'end': 20}\n",
      "{'entity': 'B-PER', 'score': np.float32(0.45343512), 'index': 12, 'word': '##H', 'start': 20, 'end': 21}\n",
      "{'entity': 'B-PER', 'score': np.float32(0.72694427), 'index': 13, 'word': '##IR', 'start': 21, 'end': 23}\n",
      "{'entity': 'B-PER', 'score': np.float32(0.7624446), 'index': 14, 'word': '##E', 'start': 23, 'end': 24}\n",
      "\n",
      "Résultats pour la phrase 2:\n",
      "{'entity': 'B-MISC', 'score': np.float32(0.99248767), 'index': 1, 'word': 'West', 'start': 0, 'end': 4}\n",
      "{'entity': 'I-MISC', 'score': np.float32(0.9836288), 'index': 2, 'word': 'Indian', 'start': 5, 'end': 11}\n",
      "{'entity': 'B-PER', 'score': np.float32(0.9989706), 'index': 7, 'word': 'Phil', 'start': 24, 'end': 28}\n",
      "{'entity': 'I-PER', 'score': np.float32(0.99917346), 'index': 8, 'word': 'Simmons', 'start': 29, 'end': 36}\n",
      "{'entity': 'B-ORG', 'score': np.float32(0.9782161), 'index': 16, 'word': 'Leicestershire', 'start': 67, 'end': 81}\n",
      "{'entity': 'B-ORG', 'score': np.float32(0.9907981), 'index': 18, 'word': 'Somerset', 'start': 87, 'end': 95}\n",
      "\n",
      "Résultats pour la phrase 3:\n",
      "{'entity': 'B-ORG', 'score': np.float32(0.99862397), 'index': 16, 'word': 'Essex', 'start': 64, 'end': 69}\n",
      "{'entity': 'B-ORG', 'score': np.float32(0.9978397), 'index': 18, 'word': 'Derbyshire', 'start': 72, 'end': 82}\n",
      "{'entity': 'B-ORG', 'score': np.float32(0.9971244), 'index': 20, 'word': 'Surrey', 'start': 87, 'end': 93}\n",
      "{'entity': 'B-ORG', 'score': np.float32(0.9982888), 'index': 27, 'word': 'Kent', 'start': 125, 'end': 129}\n",
      "{'entity': 'B-ORG', 'score': np.float32(0.9947103), 'index': 40, 'word': 'Nottinghamshire', 'start': 189, 'end': 204}\n"
     ]
    }
   ],
   "source": [
    "# Créer un pipeline NER\n",
    "ner_pipeline = pipeline(\"ner\", model=model, tokenizer=tokenizer)\n",
    "\n",
    "# Prendre les 3 premières phrases\n",
    "first_sentences = test_tokens[:3]\n",
    "\n",
    "# Appliquer le pipeline sur chaque phrase\n",
    "for idx, sentence in enumerate(first_sentences):\n",
    "    # Attention: BERT attend une string, donc on \"recolle\" les tokens\n",
    "    text = \" \".join(sentence)\n",
    "    \n",
    "    ner_results = ner_pipeline(text)\n",
    "    \n",
    "    print(f\"\\nRésultats pour la phrase {idx+1}:\")\n",
    "    for entity in ner_results:\n",
    "        print(entity)"
   ]
  },
  {
   "cell_type": "markdown",
   "metadata": {},
   "source": [
    "BERT a détecté LEICESTERSHIRE mais en plusieurs sous-tokens avec une erreur de type (PER au lieu de ORG). spaCy a correctement reconnu LEICESTERSHIRE comme une organisation (I-ORG) avec une annotation directe par mot. NLTK est capable de détecter certaines entités sur des phrases simples mais n'a pas été testé sur les memes phrases."
   ]
  },
  {
   "cell_type": "markdown",
   "metadata": {},
   "source": [
    "**5b.** Le modèle DistilBERT utilise son propre tokeniseur, c'est pourquoi les étiquettes indiquant les entités nommées sont parfois portées par plusieurs *subwords* composant un mot.  Il faut donc parfois agréger une liste d'étiquettes en une seule.  \n",
    "\n",
    "Veuillez écrire une fonction qui prend en entrée une liste d'étiquettes et retourne une seule étiquette : soit la première, soit celle qui est majoritaire.  Cette fonction sera utilisée plus loin."
   ]
  },
  {
   "cell_type": "code",
   "execution_count": 23,
   "metadata": {},
   "outputs": [
    {
     "name": "stdout",
     "output_type": "stream",
     "text": [
      "First tag: O\n",
      "Majority tag: B-PER\n"
     ]
    }
   ],
   "source": [
    "from collections import Counter\n",
    "\n",
    "def tag_fusion(tag_list, method='first'):  # method='first' ou 'majority'\n",
    "    if not tag_list:  # si liste vide\n",
    "        return 'O'\n",
    "    if method == 'first':\n",
    "        return tag_list[0]\n",
    "    elif method == 'majority':\n",
    "        counter = Counter(tag_list)\n",
    "        # On choisit l'étiquette la plus fréquente\n",
    "        return counter.most_common(1)[0][0]\n",
    "    else:\n",
    "        return 'error'\n",
    "\n",
    "print(f\"First tag: {tag_fusion(['O', 'B-PER', 'B-PER'], method='first')}\")\n",
    "print(f\"Majority tag: {tag_fusion(['O', 'B-PER', 'B-PER'], method='majority')}\")"
   ]
  },
  {
   "cell_type": "markdown",
   "metadata": {},
   "source": [
    "**5c.** Veuillez afficher le `set` des tags apparaissant dans les résultats de DistilBERT_NER sur les 50 premières phrases du corpus. Comment se comparent-ils aux tags des données de test CoNLL ?"
   ]
  },
  {
   "cell_type": "code",
   "execution_count": 24,
   "metadata": {},
   "outputs": [
    {
     "name": "stderr",
     "output_type": "stream",
     "text": [
      "You seem to be using the pipelines sequentially on GPU. In order to maximize efficiency please use a dataset\n"
     ]
    },
    {
     "name": "stdout",
     "output_type": "stream",
     "text": [
      "Tags rencontrés avec DistilBERT_NER : {'I-ORG', 'B-ORG', 'I-MISC', 'B-MISC', 'B-LOC', 'B-PER', 'I-LOC', 'I-PER'}\n"
     ]
    }
   ],
   "source": [
    "# Collecter tous les tags trouvés\n",
    "bert_tags = []\n",
    "\n",
    "for i in range(50):\n",
    "    text = ner_pipeline(' '.join(test_tokens[i]))\n",
    "    bert_tags += [tag['entity'] for tag in text]\n",
    "\n",
    "\n",
    "# Affichage\n",
    "print(\"Tags rencontrés avec DistilBERT_NER :\", set(bert_tags))"
   ]
  },
  {
   "cell_type": "markdown",
   "metadata": {},
   "source": [
    "Le modèle reconnait les entités MISC, PER, ORG et LOC, et utilisent la technique BIO"
   ]
  },
  {
   "cell_type": "markdown",
   "metadata": {},
   "source": [
    "**5d.**  Sur le modèle des points 3a et 4a, veuillez écrire une fonction qui convertit les tags générés par DistilBERT_NER aux tags des donnéees de test.  Vous utiliserez cette fonction plus loin.  "
   ]
  },
  {
   "cell_type": "code",
   "execution_count": 25,
   "metadata": {},
   "outputs": [],
   "source": [
    "def convert_bert_conll(bert_tag):\n",
    "    if bert_tag.startswith('B'):\n",
    "        return 'I' + bert_tag[1:]\n",
    "    return bert_tag"
   ]
  },
  {
   "cell_type": "markdown",
   "metadata": {},
   "source": [
    "**5e.** La pipeline DistilBERT_NER utilise son propre tokeniseur, qui ne peut pas être changé, car le modèle DistilBERT a été défini et entraîné avec lui.  On doit donc convertir les tokens du modèle à la même tokenisation que celle des données de test, en vue de l'évaluation.  Pour cela, on vous donne la fonction `convert_tokens` ainsi que du code pour la tester.  Veuillez étudier le code pour pouvoir l'utiliser plus bas, puis répondez aux questions ci-après."
   ]
  },
  {
   "cell_type": "code",
   "execution_count": 26,
   "metadata": {},
   "outputs": [],
   "source": [
    "def convert_tokens(ref_tokens, bert_result, word_ids):\n",
    "    tokenized = tokenizer.tokenize(' '.join(ref_tokens))\n",
    "    all_tags = []\n",
    "    for tok, i in zip(tokenized, range(len(tokenized))):\n",
    "        label = [tag['entity'] for tag in bert_result if tag['index'] == i+1]\n",
    "        if label:\n",
    "            label = label[0]\n",
    "        else:\n",
    "            label = 'O'\n",
    "        if tok[:2] == '##' or word_ids[i] == word_ids[i-1]: \n",
    "            all_tags[-1].append(label)\n",
    "        else:\n",
    "            all_tags.append([label])\n",
    "    return [tag_fusion(taglist, method='first') for taglist in all_tags]"
   ]
  },
  {
   "cell_type": "code",
   "execution_count": 27,
   "metadata": {},
   "outputs": [
    {
     "name": "stdout",
     "output_type": "stream",
     "text": [
      "35 -- ['West', 'Indian', 'all-rounder', 'Phil', 'Simmons', 'took', 'four', 'for', '38', 'on', 'Friday', 'as', 'Leicestershire', 'beat', 'Somerset', 'by', 'an', 'innings', 'and', '39', 'runs', 'in', 'two', 'days', 'to', 'take', 'over', 'at', 'the', 'head', 'of', 'the', 'county', 'championship', '.']\n",
      "38 -- ['West', 'Indian', 'all', '-', 'round', '##er', 'Phil', 'Simmons', 'took', 'four', 'for', '38', 'on', 'Friday', 'as', 'Leicestershire', 'beat', 'Somerset', 'by', 'an', 'innings', 'and', '39', 'runs', 'in', 'two', 'days', 'to', 'take', 'over', 'at', 'the', 'head', 'of', 'the', 'county', 'championship', '.']\n",
      "38 -- [0, 1, 2, 2, 2, 2, 3, 4, 5, 6, 7, 8, 9, 10, 11, 12, 13, 14, 15, 16, 17, 18, 19, 20, 21, 22, 23, 24, 25, 26, 27, 28, 29, 30, 31, 32, 33, 34]\n",
      "6 -- [{'entity': 'B-MISC', 'score': np.float32(0.99248767), 'index': 1, 'word': 'West', 'start': 0, 'end': 4}, {'entity': 'I-MISC', 'score': np.float32(0.9836288), 'index': 2, 'word': 'Indian', 'start': 5, 'end': 11}, {'entity': 'B-PER', 'score': np.float32(0.9989706), 'index': 7, 'word': 'Phil', 'start': 24, 'end': 28}, {'entity': 'I-PER', 'score': np.float32(0.99917346), 'index': 8, 'word': 'Simmons', 'start': 29, 'end': 36}, {'entity': 'B-ORG', 'score': np.float32(0.9782161), 'index': 16, 'word': 'Leicestershire', 'start': 67, 'end': 81}, {'entity': 'B-ORG', 'score': np.float32(0.9907981), 'index': 18, 'word': 'Somerset', 'start': 87, 'end': 95}]\n",
      "35 -- ['B-MISC', 'I-MISC', 'O', 'B-PER', 'I-PER', 'O', 'O', 'O', 'O', 'O', 'O', 'O', 'B-ORG', 'O', 'B-ORG', 'O', 'O', 'O', 'O', 'O', 'O', 'O', 'O', 'O', 'O', 'O', 'O', 'O', 'O', 'O', 'O', 'O', 'O', 'O', 'O']\n"
     ]
    }
   ],
   "source": [
    "# Test de la fonction convert_tokens:\n",
    "i = 1 # choix de la phrase\n",
    "def print_len(l):\n",
    "    print(len(l), '--', l)\n",
    "print_len(test_tokens[i]) # Affichage 1\n",
    "tokenized_by_bert = tokenizer(test_tokens[i], add_special_tokens=False, is_split_into_words=True)\n",
    "print_len(tokenizer.convert_ids_to_tokens(tokenized_by_bert[\"input_ids\"]))  # Affichage 2\n",
    "print_len(tokenized_by_bert.word_ids())  # Affichage 3\n",
    "tagged_by_bert = ner_pipeline(' '.join(test_tokens[i]))\n",
    "print_len(tagged_by_bert)  # Affichage 4\n",
    "print_len(convert_tokens(test_tokens[i], tagged_by_bert, tokenized_by_bert.word_ids()))  # Affichage 5"
   ]
  },
  {
   "cell_type": "markdown",
   "metadata": {},
   "source": [
    "**Questions**\n",
    "1. Que représentent les trois paramètres de convert_tokens ? Définissez-les comme dans une docstring.\n",
    "2. Que représentent les cinq lignes affichées par le code de test ?\n",
    "3. Quels sont les deux problèmes traités par la fonction convert_tokens ?\n",
    "\n",
    "**Réponses**\n",
    "1. ref_tokens: Liste des tokens de référence, correspondant à la tokenisation des données de test. bert_result: Liste des entités reconnues par DistilBERT_NER, avec pour chaque sous-mot un tag et son index. word_ids: Liste indiquant, pour chaque sous-mot produit par le tokenizer BERT, l'index du mot original auquel il appartient (ou None pour les tokens spéciaux).\n",
    "2. :\n",
    "      1. La liste des mots de la phrase originale issue des données de test (ref_tokens)\n",
    "      2. La liste des sous-tokens créés par le tokenizer BERT pour cette phrase\n",
    "      3. Le lien indiquant, pour chaque sous-token, à quel mot original il appartient (indice dans ref_tokens)\n",
    "      4. Le résultat brut du modèle BERT : entités prédictes pour les sous-tokens, avec leurs indices\n",
    "      5. La liste finale des étiquettes, alignée sur les mots d'origine, après fusion des sous-tokens\n",
    "3. \n",
    "   1. Problème du découpage en sous-mots: BERT peut découper un mot en plusieurs sous-tokens (WordPiece). Chaque sous-token reçoit un tag NER séparé\n",
    "   2. Problème de l'alignement entre tokenisations : La tokenisation BERT est différente de la tokenisation d'origine (test_tokens)."
   ]
  },
  {
   "cell_type": "markdown",
   "metadata": {},
   "source": [
    "**5f.** Veuillez effectuer la reconnaissance des entités nommées avec la pipeline DistilBERT_NER et obtenir la liste finale de tags avec les noms convertis à ceux du jeu de référence grâce à `convert_bert_conll`."
   ]
  },
  {
   "cell_type": "code",
   "execution_count": 28,
   "metadata": {},
   "outputs": [
    {
     "name": "stdout",
     "output_type": "stream",
     "text": [
      "Nombre total de tags obtenus : 50817\n"
     ]
    }
   ],
   "source": [
    "j = len(test_tokens)\n",
    "bert_tags_conv = []\n",
    "\n",
    "for i in range(j):\n",
    "    # Phrase i\n",
    "    ref_tokens = test_tokens[i]\n",
    "\n",
    "    # Tokeniser avec BERT\n",
    "    tokenized_by_bert = tokenizer(ref_tokens, add_special_tokens=False, is_split_into_words=True)\n",
    "    word_ids = tokenized_by_bert.word_ids()\n",
    "\n",
    "    # Appliquer NER\n",
    "    bert_result = ner_pipeline(' '.join(ref_tokens))\n",
    "\n",
    "    # Convertir pour récupérer 1 tag par mot\n",
    "    bert_tags = convert_tokens(ref_tokens, bert_result, word_ids)\n",
    "\n",
    "    # Convertir les tags BERT en format CoNLL\n",
    "    bert_tags = [convert_bert_conll(tag) for tag in bert_tags]\n",
    "\n",
    "    # Ajouter à la grande liste finale\n",
    "    bert_tags_conv.extend(bert_tags)\n",
    "\n",
    "# Vérification\n",
    "print(\"Nombre total de tags obtenus :\", len(bert_tags_conv))"
   ]
  },
  {
   "cell_type": "markdown",
   "metadata": {},
   "source": [
    "**5g.** En comparant `test_tags` avec `bert_tags_conv`, veuillez afficher le rapport d'évaluation de la classification et la matrice de confusion, pour tous les types de tags apparaissant dans les données de test."
   ]
  },
  {
   "cell_type": "code",
   "execution_count": 29,
   "metadata": {},
   "outputs": [
    {
     "name": "stdout",
     "output_type": "stream",
     "text": [
      "              precision    recall  f1-score   support\n",
      "\n",
      "       I-LOC       0.96      0.96      0.96      1938\n",
      "      I-MISC       0.91      0.89      0.90      1228\n",
      "       I-ORG       0.93      0.93      0.93      2080\n",
      "       I-PER       0.98      0.98      0.98      3097\n",
      "           O       1.00      1.00      1.00     42474\n",
      "\n",
      "    accuracy                           0.99     50817\n",
      "   macro avg       0.95      0.95      0.95     50817\n",
      "weighted avg       0.99      0.99      0.99     50817\n",
      "\n"
     ]
    },
    {
     "data": {
      "image/png": "[encoded data removed]",
      "text/plain": [
       "<Figure size 800x600 with 2 Axes>"
      ]
     },
     "metadata": {},
     "output_type": "display_data"
    }
   ],
   "source": [
    "# Rapport\n",
    "print(classification_report(test_tags, bert_tags_conv))\n",
    "\n",
    "# Matrice de confusion (sans 'O')\n",
    "labels = sorted(set(test_tags) - {'O'})\n",
    "cm = confusion_matrix(test_tags, bert_tags_conv, labels=labels)\n",
    "\n",
    "plt.figure(figsize=(8,6))\n",
    "sns.heatmap(cm, annot=True, fmt='d', xticklabels=labels, yticklabels=labels, cmap='Blues')\n",
    "plt.xlabel(\"Prédit\")\n",
    "plt.ylabel(\"Tag réel\")\n",
    "plt.title(\"Matrice de confusion NER (BERT)\")\n",
    "plt.tight_layout()\n",
    "plt.show()"
   ]
  },
  {
   "cell_type": "markdown",
   "metadata": {},
   "source": [
    "**5h.** Laquelle des deux stratégies de `tag_fusion` (premier tag ou tag majoritaire) conduit à de meilleurs résultats ?  Veuillez effectuer l'expérience et indiquer simplement les scores obtenus et votre conclusion dans le champ suivant.  Pour la conclusion finale, gardez 'first'."
   ]
  },
  {
   "cell_type": "markdown",
   "metadata": {},
   "source": [
    "Changer de 'first' à 'majority' n'a presque rien changé, ± 1 ou 2 dans les cellules de la diagonale de la matrice de confusion. Les scores sont les mêmes à 2 chiffres après la virgule près.\n",
    "\n",
    "Scores avec 'first':\n",
    "\n",
    "```text\n",
    "              precision    recall  f1-score   support\n",
    "\n",
    "       I-LOC       0.96      0.96      0.96      1938\n",
    "      I-MISC       0.91      0.89      0.90      1228\n",
    "       I-ORG       0.93      0.93      0.93      2080\n",
    "       I-PER       0.98      0.98      0.98      3097\n",
    "           O       1.00      1.00      1.00     42474\n",
    "\n",
    "    accuracy                           0.99     50817\n",
    "   macro avg       0.95      0.95      0.95     50817\n",
    "weighted avg       0.99      0.99      0.99     50817\n",
    "```\n",
    "\n",
    "Scores avec 'majority':\n",
    "```text\n",
    "              precision    recall  f1-score   support\n",
    "\n",
    "       I-LOC       0.96      0.96      0.96      1938\n",
    "      I-MISC       0.91      0.89      0.90      1228\n",
    "       I-ORG       0.93      0.93      0.93      2080\n",
    "       I-PER       0.98      0.98      0.98      3097\n",
    "           O       1.00      1.00      1.00     42474\n",
    "\n",
    "    accuracy                           0.99     50817\n",
    "   macro avg       0.95      0.95      0.95     50817\n",
    "weighted avg       0.99      0.99      0.99     50817\n",
    "```"
   ]
  },
  {
   "cell_type": "markdown",
   "metadata": {},
   "source": [
    "## 6. Discussion finale\n",
    "\n",
    "Veuillez comparer les scores des quatre modèles testés, en termes de **macro avg**.  Pourquoi ce score est-il le plus informatif ?  Veuillez indiquer également la taille des modèles spaCy évalués."
   ]
  },
  {
   "cell_type": "markdown",
   "metadata": {},
   "source": [
    "Voici un tableau comparatif, en termes de **macro avg**:\n",
    "\n",
    "|Modèle|Précision|Recall|F1-score|\n",
    "|--|--|--|--|\n",
    "|NLTK|0.59|0.56|0.56|\n",
    "|spaCy small|0.76|0.73|0.74|\n",
    "|spaCy large|0.81|0.79|0.79|\n",
    "|BERT|0.95|0.95|0.95|\n",
    "\n",
    "C'est BERT qui [gagne](https://external-content.duckduckgo.com/iu/?u=https%3A%2F%2Fsesameworkshop.org%2Fwp-content%2Fuploads%2F2023%2F03%2Fpresskit_ss_bio_bert-750x416.png&f=1&nofb=1&ipt=0d1a1240d4bfa11aaef4ed5d8ef039e5f598541f4a572f4146d0d78820e13b94)!\n",
    "\n",
    "Le score **macro avg** est la moyenne des scores de chaque classe, sans tenir compte de leur fréquence, ce qui permet une évaluation plus juste des performances en NER.\n",
    "\n",
    "spaCy small (en_core_news_sm) : Taille ~13 MB\n",
    "\n",
    "spaCy large (en_core_news_lg) : Taille ~741 MB"
   ]
  },
  {
   "cell_type": "markdown",
   "metadata": {},
   "source": [
    "**Fin du Labo.** Veuillez nettoyer ce notebook en gardant seulement les résultats désirés, l'enregistrer, et le soumettre comme devoir sur Cyberlearn."
   ]
  }
 ],
 "metadata": {
  "kernelspec": {
   "display_name": "Python 3 (ipykernel)",
   "language": "python",
   "name": "python3"
  },
  "language_info": {
   "codemirror_mode": {
    "name": "ipython",
    "version": 3
   },
   "file_extension": ".py",
   "mimetype": "text/x-python",
   "name": "python",
   "nbconvert_exporter": "python",
   "pygments_lexer": "ipython3",
   "version": "3.11.11"
  }
 },
 "nbformat": 4,
 "nbformat_minor": 4
}
